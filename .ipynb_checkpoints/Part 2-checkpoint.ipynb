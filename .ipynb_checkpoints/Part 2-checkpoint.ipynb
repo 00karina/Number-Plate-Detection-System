{
 "cells": [
  {
   "cell_type": "code",
   "execution_count": 1,
   "id": "bc411ac9",
   "metadata": {},
   "outputs": [],
   "source": [
    "#importing OpenCv\n",
    "#It is  library for the computer vision, machine learning, and image processing which plays a major role in real-time\n",
    "#operation which is very important in today’s systems.\n",
    "import cv2\n"
   ]
  },
  {
   "cell_type": "code",
   "execution_count": 2,
   "id": "c4276ee0",
   "metadata": {},
   "outputs": [],
   "source": [
    "#here numpy is imported as np and pytesseract is also imported\n",
    "#tesseract is an optical character recognition (OCR) tool for python. \n",
    "#it  recognize and “read” the text embedded in images.\n",
    "import numpy as np\n",
    "import pytesseract\n",
    "\n",
    "pytesseract.pytesseract.tesseract_cmd=\"C:/Program Files/Tesseract-OCR/tesseract.exe\""
   ]
  },
  {
   "cell_type": "code",
   "execution_count": 3,
   "id": "e5fdbcb3",
   "metadata": {},
   "outputs": [],
   "source": [
    "#here image is stored in image variable\n",
    "image=cv2.imread('car.jpg')\n"
   ]
  },
  {
   "cell_type": "code",
   "execution_count": 4,
   "id": "8bea3a04",
   "metadata": {},
   "outputs": [],
   "source": [
    "#converting image into grayscale\n",
    "#cvtColor() method is used to convert an image from one color space to another.\n",
    "gray=cv2.cvtColor(image,cv2.COLOR_BGR2GRAY)"
   ]
  },
  {
   "cell_type": "code",
   "execution_count": 5,
   "id": "b23a5607",
   "metadata": {},
   "outputs": [],
   "source": [
    "#applying filter to remove noise.it takes three parameters\n",
    "filter=cv2.bilateralFilter(gray,11,15,15)"
   ]
  },
  {
   "cell_type": "code",
   "execution_count": 6,
   "id": "ae521901",
   "metadata": {},
   "outputs": [],
   "source": [
    "#applying the edge setection by using canny.\n",
    "#Here 150 is taken as lower thresold value and 200 is taken as upper thresold value\n",
    "edge=cv2.Canny(filter,150,200)"
   ]
  },
  {
   "cell_type": "code",
   "execution_count": 7,
   "id": "bd35f37f",
   "metadata": {},
   "outputs": [],
   "source": [
    "#finding the contor.Here three parameters is passed in findContours\n",
    "contor,href=cv2.findContours(edge,cv2.RETR_TREE,cv2.CHAIN_APPROX_SIMPLE)"
   ]
  },
  {
   "cell_type": "code",
   "execution_count": 8,
   "id": "ed185362",
   "metadata": {},
   "outputs": [],
   "source": [
    "#sorting contor on the basis of area\n",
    "ctn=sorted(contor,key=cv2.contourArea,reverse=True)"
   ]
  },
  {
   "cell_type": "code",
   "execution_count": 9,
   "id": "62371586",
   "metadata": {},
   "outputs": [
    {
     "name": "stdout",
     "output_type": "stream",
     "text": [
      " \n",
      "\n",
      "HR26DK8337|\n",
      "\f",
      "\n"
     ]
    },
    {
     "data": {
      "text/plain": [
       "-1"
      ]
     },
     "execution_count": 9,
     "metadata": {},
     "output_type": "execute_result"
    }
   ],
   "source": [
    "\n",
    "for c in ctn:\n",
    "    #calculating perimeter\n",
    "    perimeter=cv2.arcLength(c,True)\n",
    "    epsilon=0.020*perimeter\n",
    "    #return apporx lenght\n",
    "    apporx=cv2.approxPolyDP(c,epsilon,True)\n",
    "    \n",
    "    #here the contour is calculated if the length is equal to 4\n",
    "    \n",
    "    if len(apporx)==4:\n",
    "        #Here boundingRect is used to draw an approximate rectangle around the binary image.\n",
    "        x,y,w,h=cv2.boundingRect(apporx)\n",
    "        image2=image[y:y+h,x:x+w]\n",
    "        text=pytesseract.image_to_string(image2)\n",
    "        print(text)\n",
    "        final=cv2.drawContours(image,[apporx],-1,(255,0,0),3)\n",
    "        break\n",
    "#imshow is method used to show image in windows\n",
    "cv2.imshow(\" Number Plate Detected\",image)\n",
    "cv2.waitKey(0)"
   ]
  },
  {
   "cell_type": "code",
   "execution_count": null,
   "id": "d865634c",
   "metadata": {},
   "outputs": [],
   "source": []
  },
  {
   "cell_type": "code",
   "execution_count": null,
   "id": "fe60ec71",
   "metadata": {},
   "outputs": [],
   "source": []
  }
 ],
 "metadata": {
  "kernelspec": {
   "display_name": "Python 3",
   "language": "python",
   "name": "python3"
  },
  "language_info": {
   "codemirror_mode": {
    "name": "ipython",
    "version": 3
   },
   "file_extension": ".py",
   "mimetype": "text/x-python",
   "name": "python",
   "nbconvert_exporter": "python",
   "pygments_lexer": "ipython3",
   "version": "3.8.3"
  }
 },
 "nbformat": 4,
 "nbformat_minor": 5
}
